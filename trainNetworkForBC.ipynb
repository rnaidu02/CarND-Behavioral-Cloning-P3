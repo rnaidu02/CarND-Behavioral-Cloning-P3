{
 "cells": [
  {
   "cell_type": "code",
   "execution_count": 10,
   "metadata": {},
   "outputs": [],
   "source": [
    "# Import numpy and TF backend\n",
    "import numpy as np\n",
    "import tensorflow as tf\n",
    "tf.python.control_flow_ops = tf\n",
    "\n",
    "# Import Keras \n",
    "from keras.models import Sequential\n",
    "from keras.layers.core import Dense, Activation, Flatten, Dropout\n",
    "from keras.layers.convolutional import Convolution2D, MaxPooling2D\n",
    "from keras.layers import Cropping2D, Lambda\n",
    "from keras import backend as K\n",
    "\n",
    "# Import cv\n",
    "import cv2\n",
    "import csv\n",
    "\n"
   ]
  },
  {
   "cell_type": "code",
   "execution_count": 11,
   "metadata": {
    "collapsed": true
   },
   "outputs": [],
   "source": [
    "# Functions\n",
    "\n",
    "# get ImageMat for the given file location in the Data log\n",
    "def process_image(imageField):\n",
    "    imagePath = imageField\n",
    "    fileName = imagePath.split('/')[-1]\n",
    "    fileNamewithFolder = './data/IMG/' + fileName\n",
    "    imageMat = cv2.imread(fileNamewithFolder)\n",
    "    \n",
    "    return imageMat"
   ]
  },
  {
   "cell_type": "code",
   "execution_count": 12,
   "metadata": {},
   "outputs": [
    {
     "name": "stdout",
     "output_type": "stream",
     "text": [
      "4706\n",
      "28236\n"
     ]
    }
   ],
   "source": [
    "lines = []\n",
    "\n",
    "with open('data/driving_log.csv') as csvfile:\n",
    "    reader = csv.reader(csvfile)\n",
    "    for line in reader:\n",
    "        lines.append(line)\n",
    "    print(len(lines))\n",
    "    \n",
    "# Traverse thru the lines and extract images (X values) and steering value (y value)\n",
    "images = []\n",
    "msmts = []\n",
    "for line in lines:\n",
    "    # First element is the image\n",
    "    imageMat = process_image(line[0])\n",
    "    images.append(imageMat)\n",
    "    # 4th element is the steering info\n",
    "    steering_center = float(line[3])\n",
    "    msmts.append(steering_center)\n",
    "    \n",
    "    # create adjusted steering measurements for the side camera images\n",
    "    correction = 0.2 # this is a parameter to tune\n",
    "    steering_left = steering_center + correction\n",
    "    steering_right = steering_center - correction\n",
    "\n",
    "    # read in images from center, left and right cameras\n",
    "    imageMat =  process_image(line[1])\n",
    "    images.append(imageMat)\n",
    "    msmts.append(steering_left)\n",
    "    \n",
    "    imageMat =  process_image(line[2])\n",
    "    images.append(imageMat)\n",
    "    msmts.append(steering_right)\n",
    "\n",
    "# Find the existing length of images\n",
    "list_len = len(msmts)\n",
    "for i in range(0, list_len):\n",
    "    \n",
    "    # Now add the image flip side to reduce the left bias\n",
    "    image_flipped = np.fliplr(images[i])\n",
    "    msmt_flipped = -1 * msmts[i]\n",
    "    images.append(image_flipped)\n",
    "    msmts.append(msmt_flipped)\n",
    "\n",
    "print(len(msmts))"
   ]
  },
  {
   "cell_type": "code",
   "execution_count": 13,
   "metadata": {},
   "outputs": [],
   "source": [
    "# Set the traing data\n",
    "X_train = np.array(images)\n",
    "Y_train = np.array(msmts)\n"
   ]
  },
  {
   "cell_type": "code",
   "execution_count": null,
   "metadata": {
    "collapsed": true
   },
   "outputs": [],
   "source": []
  },
  {
   "cell_type": "code",
   "execution_count": 14,
   "metadata": {},
   "outputs": [],
   "source": [
    "# TODO: Build the Fully Connected Neural Network in Keras Here\n",
    "model = Sequential()\n",
    "\n",
    "model.add(Lambda(lambda x: (x / 255.0) - 0.5, input_shape=(160,320,3)))\n",
    "model.add(Cropping2D(cropping=((50,20), (0,0))))\n",
    "model.add(Convolution2D(24, 5, 5,\n",
    "                activation='relu',\n",
    "                border_mode='valid'))\n",
    "model.add(MaxPooling2D((2, 2)))\n",
    "model.add(Convolution2D(32, 5, 5,\n",
    "                activation='relu',\n",
    "                border_mode='valid'))\n",
    "model.add(MaxPooling2D((2, 2)))\n",
    "model.add(Convolution2D(48, 5, 5,\n",
    "                activation='relu',\n",
    "                border_mode='valid'))\n",
    "model.add(MaxPooling2D((2, 2)))\n",
    "model.add(Dropout(0.5))\n",
    "\n",
    "model.add(Convolution2D(64, 3, 3, activation='relu'))\n",
    "model.add(Convolution2D(64, 3, 3, activation='relu'))\n",
    "model.add(Dropout(0.25))\n",
    "\n",
    "model.add(Flatten())\n",
    "\n",
    "#2nd Layer - Add a fully connected layer\n",
    "model.add(Dense(128))\n",
    "#3rd Layer - Add a ReLU activation layer\n",
    "#model.add(Activation('relu'))\n",
    "#model.add(Dropout(0.5))\n",
    "model.add(Dense(42))\n",
    "model.add(Dense(10))\n",
    "#4th Layer - Add a fully connected layer - one node at the end to predict steering (basically regression)\n",
    "model.add(Dense(1))"
   ]
  },
  {
   "cell_type": "code",
   "execution_count": 15,
   "metadata": {},
   "outputs": [
    {
     "name": "stdout",
     "output_type": "stream",
     "text": [
      "Train on 22588 samples, validate on 5648 samples\n",
      "Epoch 1/5\n",
      "22588/22588 [==============================] - 39s - loss: 0.0592 - val_loss: 0.0676\n",
      "Epoch 2/5\n",
      "22588/22588 [==============================] - 37s - loss: 0.0537 - val_loss: 0.0603\n",
      "Epoch 3/5\n",
      "22588/22588 [==============================] - 37s - loss: 0.0492 - val_loss: 0.0576\n",
      "Epoch 4/5\n",
      "22588/22588 [==============================] - 36s - loss: 0.0463 - val_loss: 0.0637\n",
      "Epoch 5/5\n",
      "22588/22588 [==============================] - 36s - loss: 0.0433 - val_loss: 0.0667\n"
     ]
    }
   ],
   "source": [
    "# Train the model\n",
    "model.compile(loss='mse', optimizer='adam')\n",
    "history = model.fit(X_train, Y_train, nb_epoch=5, validation_split=0.2, shuffle=True)\n",
    "\n",
    "model.save('bc_model_jul13.h5')"
   ]
  },
  {
   "cell_type": "code",
   "execution_count": null,
   "metadata": {
    "collapsed": true
   },
   "outputs": [],
   "source": []
  }
 ],
 "metadata": {
  "kernelspec": {
   "display_name": "Python 3",
   "language": "python",
   "name": "python3"
  },
  "language_info": {
   "codemirror_mode": {
    "name": "ipython",
    "version": 3
   },
   "file_extension": ".py",
   "mimetype": "text/x-python",
   "name": "python",
   "nbconvert_exporter": "python",
   "pygments_lexer": "ipython3",
   "version": "3.5.2"
  },
  "widgets": {
   "state": {},
   "version": "1.1.2"
  }
 },
 "nbformat": 4,
 "nbformat_minor": 2
}
